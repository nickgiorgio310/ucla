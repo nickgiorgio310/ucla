{
 "cells": [
  {
   "cell_type": "code",
   "execution_count": 82,
   "id": "0235793d-d242-4a00-b44d-617a5a9620b7",
   "metadata": {},
   "outputs": [
    {
     "data": {
      "text/plain": [
       "'/home/jovyan/Capstone/St Louis MR'"
      ]
     },
     "execution_count": 82,
     "metadata": {},
     "output_type": "execute_result"
    }
   ],
   "source": [
    "pwd"
   ]
  },
  {
   "cell_type": "code",
   "execution_count": 1,
   "id": "fe57bcf2-7d55-440b-9d20-f40771def10b",
   "metadata": {},
   "outputs": [
    {
     "name": "stdout",
     "output_type": "stream",
     "text": [
      "       post_speeds  control_intersection\n",
      "count  2298.000000           2302.000000\n",
      "mean     14.679721             14.696785\n",
      "std       2.040542              1.661534\n",
      "min       9.000000              9.000000\n",
      "25%      13.000000             14.000000\n",
      "50%      15.000000             14.000000\n",
      "75%      16.000000             16.000000\n",
      "max      29.000000             25.000000\n"
     ]
    }
   ],
   "source": [
    "import pandas as pd\n",
    "import matplotlib.pyplot as plt\n",
    "import scipy.stats as stats\n",
    "post_treatment = pd.read_csv('data/St_Louis_MR_post.csv')\n",
    "control_intersection = pd.read_csv('data/control.csv')\n",
    "post_speeds = post_treatment['Avg Spot Speed (mph)']\n",
    "control_speeds = control_intersection['Avg Spot Speed (mph)']\n",
    "df = pd.DataFrame({'post_speeds': post_speeds, \n",
    "                   'control_intersection': control_speeds})\n",
    "summary_table = df.describe()\n",
    "print(summary_table)"
   ]
  },
  {
   "cell_type": "code",
   "execution_count": 86,
   "id": "10db569d-99d3-46e8-afb5-fd5e2cf4c8ab",
   "metadata": {},
   "outputs": [],
   "source": [
    "df = pd.DataFrame({'post_speeds': post_speeds, \n",
    "                   'control_intersection': control_speeds})"
   ]
  },
  {
   "cell_type": "code",
   "execution_count": 3,
   "id": "82368536-5c72-4edf-9219-16df5d5294b3",
   "metadata": {
    "scrolled": true
   },
   "outputs": [
    {
     "name": "stdout",
     "output_type": "stream",
     "text": [
      "       post_speeds  control_speeds\n",
      "count  1673.000000     1673.000000\n",
      "mean     14.715481       14.723849\n",
      "std       2.218421        1.756468\n",
      "min       9.000000        9.000000\n",
      "25%      13.000000       14.000000\n",
      "50%      15.000000       15.000000\n",
      "75%      16.000000       16.000000\n",
      "max      29.000000       25.000000\n"
     ]
    },
    {
     "data": {
      "image/png": "[encoded data removed]",
      "text/plain": [
       "<Figure size 600x400 with 1 Axes>"
      ]
     },
     "metadata": {},
     "output_type": "display_data"
    },
    {
     "name": "stdout",
     "output_type": "stream",
     "text": [
      "T-Statistic: -0.12075285937981989\n",
      "P-Value: 0.9039\n"
     ]
    }
   ],
   "source": [
    "import pandas as pd\n",
    "import scipy.stats as stats\n",
    "import matplotlib.pyplot as plt\n",
    "\n",
    "post_treatment = pd.read_csv('data/St_Louis_MR_post.csv')\n",
    "control_intersection = pd.read_csv('data/control.csv')\n",
    "\n",
    "filters = (post_treatment['Day Type'] == '0: All Days (M-Su)') | (post_treatment['Day Part'] == '0: All Day (12am-12am)')\n",
    "post_treatment = post_treatment[~filters]\n",
    "\n",
    "filters = (control_intersection['Day Type'] == '0: All Days (M-Su)') | (control_intersection['Day Part'] == '0: All Day (12am-12am)')\n",
    "control_intersection = control_intersection[~filters]\n",
    "\n",
    "post_speeds = post_treatment['Avg Spot Speed (mph)']\n",
    "control_speeds = control_intersection['Avg Spot Speed (mph)']\n",
    "valid_indices = post_speeds.notna() & control_speeds.notna()\n",
    "post_speeds_clean = post_speeds[valid_indices]\n",
    "control_speeds_clean = control_speeds[valid_indices]\n",
    "\n",
    "t_stat, p_value = stats.ttest_rel(post_speeds_clean, control_speeds_clean)\n",
    "\n",
    "df = pd.DataFrame({\n",
    "    'post_speeds': post_speeds_clean,\n",
    "    'control_speeds': control_speeds_clean\n",
    "})\n",
    "summary_table = df.describe()\n",
    "print(summary_table)\n",
    "\n",
    "bar_colors = ['blue', 'gray']\n",
    "plt.figure(figsize=(6, 4))\n",
    "plt.bar(['Post-Treatment', 'Control'], \n",
    "        [post_speeds_clean.mean(), control_speeds_clean.mean()], \n",
    "        yerr=[post_speeds_clean.std(), control_speeds_clean.std()], capsize=5, color=bar_colors)\n",
    "\n",
    "plt.ylabel('Average Spot Speed (mph)')\n",
    "plt.title('Post-Treatment vs. Control Intersection Speeds')\n",
    "plt.show()\n",
    "\n",
    "print(f\"T-Statistic: {t_stat}\")\n",
    "print(f\"P-Value: {p_value:.4f}\")\n",
    "\n"
   ]
  },
  {
   "cell_type": "code",
   "execution_count": null,
   "id": "05cae20e-7b5a-492c-b3b9-e33520504fb5",
   "metadata": {},
   "outputs": [],
   "source": []
  }
 ],
 "metadata": {
  "kernelspec": {
   "display_name": "Python 3 (ipykernel)",
   "language": "python",
   "name": "python3"
  },
  "language_info": {
   "codemirror_mode": {
    "name": "ipython",
    "version": 3
   },
   "file_extension": ".py",
   "mimetype": "text/x-python",
   "name": "python",
   "nbconvert_exporter": "python",
   "pygments_lexer": "ipython3",
   "version": "3.11.9"
  }
 },
 "nbformat": 4,
 "nbformat_minor": 5
}
