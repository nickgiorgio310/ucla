{
 "cells": [
  {
   "cell_type": "code",
   "execution_count": 1,
   "id": "aece477b-6968-4b92-aff1-ba7c318bbec7",
   "metadata": {},
   "outputs": [
    {
     "name": "stdout",
     "output_type": "stream",
     "text": [
      "Requirement already satisfied: ace_tools in /opt/conda/lib/python3.11/site-packages (0.0)\n",
      "Note: you may need to restart the kernel to use updated packages.\n"
     ]
    }
   ],
   "source": [
    "pip install ace_tools"
   ]
  },
  {
   "cell_type": "code",
   "execution_count": 3,
   "id": "507aba58-2d58-4155-ba77-004bbe0d0086",
   "metadata": {},
   "outputs": [
    {
     "ename": "ModuleNotFoundError",
     "evalue": "No module named 'ace_tools'",
     "output_type": "error",
     "traceback": [
      "\u001b[0;31m---------------------------------------------------------------------------\u001b[0m",
      "\u001b[0;31mModuleNotFoundError\u001b[0m                       Traceback (most recent call last)",
      "Cell \u001b[0;32mIn[3], line 1\u001b[0m\n\u001b[0;32m----> 1\u001b[0m \u001b[38;5;28;01mimport\u001b[39;00m \u001b[38;5;21;01mace_tools\u001b[39;00m \u001b[38;5;28;01mas\u001b[39;00m \u001b[38;5;21;01mtools\u001b[39;00m\n",
      "\u001b[0;31mModuleNotFoundError\u001b[0m: No module named 'ace_tools'"
     ]
    }
   ],
   "source": [
    "import ace_tools as tools"
   ]
  },
  {
   "cell_type": "code",
   "execution_count": 3,
   "id": "187e7051-f353-4c07-b16e-d9690836f95e",
   "metadata": {},
   "outputs": [],
   "source": [
    "import os\n",
    "import json\n",
    "import pandas as pd\n",
    "\n",
    "# Define the directory containing the JSON summary files\n",
    "summary_dir = 'results'\n",
    "data = []\n",
    "\n",
    "# Loop through each file and extract relevant information\n",
    "for filename in os.listdir(summary_dir):\n",
    "    if filename.endswith('_summary.json'):\n",
    "        filepath = os.path.join(summary_dir, filename)\n",
    "        with open(filepath, 'r') as file:\n",
    "            record = json.load(file)\n",
    "            data.append({\n",
    "                'Intersection': record.get('Intersection'),\n",
    "                'Pre_Mean': record.get('Pre_Mean'),\n",
    "                'Post_Mean': record.get('Post_Mean'),\n",
    "                'Pre_Std': record.get('Pre_Std'),\n",
    "                'Post_Std': record.get('Post_Std'),\n",
    "                'Pre_SE': record.get('Pre_SE'),\n",
    "                'Post_SE': record.get('Post_SE'),\n",
    "                'Pre_85th': record.get('Pre_85th'),\n",
    "                'Post_85th': record.get('Post_85th'),\n",
    "                'Pre_95th': record.get('Pre_95th'),\n",
    "                'Post_95th': record.get('Post_95th'),\n",
    "                'Pre_Max_85th': record.get('Pre_Max_85th'),\n",
    "                'Post_Max_85th': record.get('Post_Max_85th'),\n",
    "                'T_Statistic': record.get('T_Statistic'),\n",
    "                'P_Value': record.get('P_Value'),\n",
    "                'Pre_Volume': record.get('Pre_Volume'),\n",
    "                'Post_Volume': record.get('Post_Volume'),\n",
    "                'Combined Volume': record.get('Combined Volume') or record.get('Combined_Volumne')\n",
    "            })\n",
    "\n",
    "# Convert to DataFrame\n",
    "df = pd.DataFrame(data)\n",
    "df.loc['Total'] = [''] * (df.shape[1] - 1) + [df.iloc[:, -1].sum()]\n",
    "df['Type'] = 'All Way Stop'\n",
    "\n",
    "cols = df.columns.tolist()\n",
    "# Move 'Type' from its current position\n",
    "cols.insert(1, cols.pop(cols.index('Type')))\n",
    "df.loc['Total', 'Type'] = ''\n",
    "df = df[cols]\n",
    "\n",
    "# Display the DataFrame to the user\n",
    "#import ace_tools as tools; tools.display_dataframe_to_user(name=\"Intersection Treatment Results\", dataframe=df)\n"
   ]
  },
  {
   "cell_type": "code",
   "execution_count": null,
   "id": "995e7748-9d11-4189-9672-c5d29784fe4c",
   "metadata": {},
   "outputs": [],
   "source": [
    "df.head(20)"
   ]
  },
  {
   "cell_type": "code",
   "execution_count": null,
   "id": "81683172-476c-45e6-8303-02f62729308a",
   "metadata": {},
   "outputs": [],
   "source": [
    "df['Total"
   ]
  },
  {
   "cell_type": "code",
   "execution_count": 4,
   "id": "fd80dc98-8071-4181-bfa6-c9c98c1f452a",
   "metadata": {},
   "outputs": [],
   "source": [
    "df.to_csv('Traffic_Circles.csv', index = False)"
   ]
  },
  {
   "cell_type": "code",
   "execution_count": null,
   "id": "71978625-4291-41b4-b9e6-59dba92c5227",
   "metadata": {},
   "outputs": [],
   "source": []
  }
 ],
 "metadata": {
  "kernelspec": {
   "display_name": "Python 3 (ipykernel)",
   "language": "python",
   "name": "python3"
  },
  "language_info": {
   "codemirror_mode": {
    "name": "ipython",
    "version": 3
   },
   "file_extension": ".py",
   "mimetype": "text/x-python",
   "name": "python",
   "nbconvert_exporter": "python",
   "pygments_lexer": "ipython3",
   "version": "3.11.9"
  }
 },
 "nbformat": 4,
 "nbformat_minor": 5
}
