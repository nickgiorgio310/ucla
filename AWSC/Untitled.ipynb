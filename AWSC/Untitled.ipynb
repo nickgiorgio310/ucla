{
 "cells": [
  {
   "cell_type": "code",
   "execution_count": 1,
   "id": "69b1f4eb-5a5a-42e7-aacf-2d7316e7d7b4",
   "metadata": {},
   "outputs": [
    {
     "name": "stdout",
     "output_type": "stream",
     "text": [
      "\u001b[0m\u001b[01;34m'77th AWSC Conversion'\u001b[0m/     \u001b[01;34m'Reno AWSC Conversion'\u001b[0m/\n",
      " AWSC_Bar_Chart.ipynb       \u001b[01;34m'Romaine AWSC Conversion'\u001b[0m/\n",
      " AWSC_Table.ipynb            Traffic_Circles.csv\n",
      "\u001b[01;34m'Clinton AWSC'\u001b[0m/              Untitled.ipynb\n",
      "\u001b[01;34m'Euclid AWSC Convertion'\u001b[0m/   \u001b[01;34m'Vernon AWSC Conversion'\u001b[0m/\n",
      "\u001b[01;34m'Hancock AWSC Conversion'\u001b[0m/  \u001b[01;34m'Yosemite Four AWSC Conversion'\u001b[0m/\n",
      "\u001b[01;34m'Hoover AWSC Conversion'\u001b[0m/    awsc_max_85th_comparison.png\n",
      "\u001b[01;34m'Menlo AWSC Conversion'\u001b[0m/     awsc_speed_comparison.png\n",
      "\u001b[01;34m'Orphis AWSC Conversion'\u001b[0m/    \u001b[01;34mresults\u001b[0m/\n"
     ]
    }
   ],
   "source": [
    "ls"
   ]
  },
  {
   "cell_type": "code",
   "execution_count": 7,
   "id": "4e4863f3-bf0e-4b86-b4e5-2d6b56d636ad",
   "metadata": {},
   "outputs": [],
   "source": [
    "import os\n",
    "import json\n",
    "import pandas as pd\n",
    "\n",
    "# Directory containing summary files\n",
    "summary_dir = './results'\n",
    "\n",
    "# List to hold each result\n",
    "data = []\n",
    "\n",
    "# Loop through files in directory\n",
    "for filename in os.listdir(summary_dir):\n",
    "    if filename.endswith('_summary.json'):\n",
    "        with open(os.path.join(summary_dir, filename), 'r') as f:\n",
    "            summary = json.load(f)\n",
    "\n",
    "            data.append({\n",
    "                'Intersection': summary.get('Intersection', filename.replace('_summary.json', '')),\n",
    "                'Pre_Mean': summary.get('Pre_Mean'),\n",
    "                    'Post_Mean': summary.get('Post_Mean'),\n",
    "                    'Pre_Max_85th': summary.get('Pre_Max_85th'),\n",
    "                    'Post_Max_85th': summary.get('Post_Max_85th'),\n",
    "                'T_Statistic': summary.get('T_Statistic'),\n",
    "                'P_Value': summary.get('P_Value'),\n",
    "                'Pre_Volume': summary.get('Pre_Volume'),\n",
    "                'Post_Volume': summary.get('Post_Volume'),\n",
    "                'Combined_Volume': (\n",
    "                    summary.get('Combined Volume') or \n",
    "                    summary.get('Combined_Volume') or \n",
    "                    summary.get('Combined_Volumne')  # to handle the typo\n",
    "                )\n",
    "            })\n",
    "\n",
    "# Convert to DataFrame\n",
    "df = pd.DataFrame(data)\n",
    "\n",
    "# Save or print\n",
    "df.head()\n",
    "df.to_csv('summary_stats.csv', index=False)\n"
   ]
  },
  {
   "cell_type": "code",
   "execution_count": null,
   "id": "91684639-d547-4c6c-b9af-dc993098f68e",
   "metadata": {},
   "outputs": [],
   "source": []
  }
 ],
 "metadata": {
  "kernelspec": {
   "display_name": "Python 3 (ipykernel)",
   "language": "python",
   "name": "python3"
  },
  "language_info": {
   "codemirror_mode": {
    "name": "ipython",
    "version": 3
   },
   "file_extension": ".py",
   "mimetype": "text/x-python",
   "name": "python",
   "nbconvert_exporter": "python",
   "pygments_lexer": "ipython3",
   "version": "3.11.9"
  }
 },
 "nbformat": 4,
 "nbformat_minor": 5
}
