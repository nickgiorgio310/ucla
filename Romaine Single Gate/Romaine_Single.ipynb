{
 "cells": [
  {
   "cell_type": "code",
   "execution_count": 3,
   "id": "b2b82b9d-c920-4cae-95cf-5e1ea3ed443c",
   "metadata": {},
   "outputs": [
    {
     "data": {
      "text/plain": [
       "'/home/jovyan/Capstone/Romaine Single Gate'"
      ]
     },
     "execution_count": 3,
     "metadata": {},
     "output_type": "execute_result"
    }
   ],
   "source": []
  },
  {
   "cell_type": "code",
   "execution_count": 8,
   "id": "f2c0824c-304b-4f64-b526-63884df5a451",
   "metadata": {},
   "outputs": [],
   "source": [
    "import zipfile\n",
    "import os\n",
    "def unzip_file(zip_path,extract_to):\n",
    "    with zipfile.ZipFile(zip_path, 'r') as zip_ref: \n",
    "        zip_ref.extractall(extract_to)\n",
    "\n",
    "zip_path = 'data/Romaine.zip' \n",
    "extract_to = '/home/jovyan/Capstone/Romaine Single Gate/data'\n",
    "unzip_file(zip_path, extract_to)"
   ]
  },
  {
   "cell_type": "code",
   "execution_count": 10,
   "id": "f3495149-656d-499d-9ead-1128abe437e7",
   "metadata": {},
   "outputs": [
    {
     "name": "stdout",
     "output_type": "stream",
     "text": [
      "Pre-treatment data size before filtering: (35, 18)\n",
      "Pre-treatment data size after filtering: (34, 18)\n",
      "Post-treatment data size before filtering: (35, 18)\n",
      "Post-treatment data size after filtering: (34, 18)\n",
      "       pre_speeds  post_speeds\n",
      "count   34.000000    34.000000\n",
      "mean    14.411765    13.352941\n",
      "std      1.018545     0.812119\n",
      "min     12.000000    12.000000\n",
      "25%     14.000000    13.000000\n",
      "50%     14.000000    13.000000\n",
      "75%     15.000000    14.000000\n",
      "max     17.000000    15.000000\n",
      "Weighted Pre-Treatment Speed: 14.59 mph\n",
      "Weighted Post-Treatment Speed: 13.30 mph\n",
      "T-Statistic: 6.114, P-Value: 0.000\n"
     ]
    },
    {
     "data": {
      "image/png": "[encoded data removed]",
      "text/plain": [
       "<Figure size 600x400 with 1 Axes>"
      ]
     },
     "metadata": {},
     "output_type": "display_data"
    },
    {
     "name": "stdout",
     "output_type": "stream",
     "text": [
      "Highest value for pre-treatment'85th Speed Percentile': 28.0 mph Highest value for post-treatment'85th Speed Percentile': 25.0 mph\n",
      "Row details:\n",
      "Data Periods                                          Jan 01, 2022 - Feb 01, 2022\n",
      "Mode of Travel                             All Vehicles - StL All Vehicles Volume\n",
      "Zone ID                                                                       NaN\n",
      "Zone Name                                                    North Serrano Avenue\n",
      "Zone Is Pass-Through                                                          yes\n",
      "Zone Direction (degrees)                                                      359\n",
      "Zone is Bi-Direction                                                          yes\n",
      "Year-Month                                                                2022-01\n",
      "Day Type                                                          5: Friday (F-F)\n",
      "Day Part                                                   1: Early AM (12am-6am)\n",
      "Average Daily Spot Traffic (StL Volume)                                        46\n",
      "Avg Spot Speed (mph)                                                           14\n",
      "Free Flow Speed (mph)                                                       19.88\n",
      "Free Flow Factor                                                             0.71\n",
      "5th Speed Percentile                                                          2.0\n",
      "15th Speed Percentile                                                         8.0\n",
      "85th Speed Percentile                                                        28.0\n",
      "95th Speed Percentile                                                        31.0\n",
      "Name: 31, dtype: object Data Periods                                          Jun 01, 2022 - Jul 01, 2022\n",
      "Mode of Travel                             All Vehicles - StL All Vehicles Volume\n",
      "Zone ID                                                                       NaN\n",
      "Zone Name                                                    North Serrano Avenue\n",
      "Zone Is Pass-Through                                                          yes\n",
      "Zone Direction (degrees)                                                      359\n",
      "Zone is Bi-Direction                                                          yes\n",
      "Year-Month                                                                2022-06\n",
      "Day Type                                                       3: Wednesday (W-W)\n",
      "Day Part                                                    2: Peak AM (6am-10am)\n",
      "Average Daily Spot Traffic (StL Volume)                                        92\n",
      "Avg Spot Speed (mph)                                                           15\n",
      "Free Flow Speed (mph)                                                      18.203\n",
      "Free Flow Factor                                                            0.835\n",
      "5th Speed Percentile                                                          4.0\n",
      "15th Speed Percentile                                                         7.0\n",
      "85th Speed Percentile                                                        25.0\n",
      "95th Speed Percentile                                                        29.0\n",
      "Name: 20, dtype: object\n"
     ]
    }
   ],
   "source": [
    "import numpy as np\n",
    "import pandas as pd\n",
    "import scipy.stats as stats\n",
    "import matplotlib.pyplot as plt\n",
    "\n",
    "# Load both datasets\n",
    "pre_treatment = pd.read_csv('data/romaine_pre.csv')\n",
    "post_treatment = pd.read_csv('data/romaine_post.csv')\n",
    "\n",
    "pre_filters = (pre_treatment['Day Type'] == '0: All Days (M-Su)') | (pre_treatment['Day Part'] == '0: All Day (12am-12am)')\n",
    "post_filters = (post_treatment['Day Type'] == '0: All Days (M-Su)') | (post_treatment['Day Part'] == '0: All Day (12am-12am)')\n",
    "\n",
    "pre_treatment = pre_treatment[~pre_filters]\n",
    "post_treatment = post_treatment[~post_filters]\n",
    "\n",
    "# Define a function to filter out outliers in a given column using z-scores\n",
    "def filter_outliers(df, column, threshold=3):\n",
    "    # Drop missing values from the column for z-score computation\n",
    "    valid_values = df[column].dropna()\n",
    "    z_scores = stats.zscore(valid_values)\n",
    "    # Identify indices where the absolute z-score is below the threshold\n",
    "    valid_indices = valid_values.index[np.abs(z_scores) < threshold]\n",
    "    # Return only rows that meet the criterion\n",
    "    return df.loc[valid_indices]\n",
    "\n",
    "# Apply the filtering to both datasets on the \"95th Speed Percentile\" column\n",
    "pre_treatment_filtered = filter_outliers(pre_treatment, '85th Speed Percentile')\n",
    "post_treatment_filtered = filter_outliers(post_treatment, '85th Speed Percentile')\n",
    "\n",
    "print(\"Pre-treatment data size before filtering:\", pre_treatment.shape)\n",
    "print(\"Pre-treatment data size after filtering:\", pre_treatment_filtered.shape)\n",
    "print(\"Post-treatment data size before filtering:\", post_treatment.shape)\n",
    "print(\"Post-treatment data size after filtering:\", post_treatment_filtered.shape)\n",
    "\n",
    "# Now perform your analysis on the filtered datasets\n",
    "pre_speeds = pre_treatment_filtered['Avg Spot Speed (mph)']\n",
    "post_speeds = post_treatment_filtered['Avg Spot Speed (mph)']\n",
    "pre_volume = pre_treatment_filtered['Average Daily Spot Traffic (StL Volume)']\n",
    "post_volume = post_treatment_filtered['Average Daily Spot Traffic (StL Volume)']\n",
    "\n",
    "# Compute weighted average speeds\n",
    "pre_weighted_speed = (pre_speeds * pre_volume).sum() / pre_volume.sum()\n",
    "post_weighted_speed = (post_speeds * post_volume).sum() / post_volume.sum()\n",
    "\n",
    "# Create a summary table\n",
    "df = pd.DataFrame({'pre_speeds': pre_speeds, 'post_speeds': post_speeds})\n",
    "summary_table = df.describe()\n",
    "print(summary_table)\n",
    "\n",
    "# Function to calculate weighted standard deviation\n",
    "def weighted_std(values, weights):\n",
    "    mean = (values * weights).sum() / weights.sum()\n",
    "    variance = (weights * (values - mean) ** 2).sum() / weights.sum()\n",
    "    return variance ** 0.5\n",
    "\n",
    "pre_weighted_std = weighted_std(pre_speeds, pre_volume)\n",
    "post_weighted_std = weighted_std(post_speeds, post_volume)\n",
    "\n",
    "# For a paired t-test, ensure both datasets still align appropriately\n",
    "valid_indices = pre_speeds.notna() & post_speeds.notna()\n",
    "t_stat, p_value = stats.ttest_rel(pre_speeds[valid_indices], post_speeds[valid_indices])\n",
    "\n",
    "print(f\"Weighted Pre-Treatment Speed: {pre_weighted_speed:.2f} mph\")\n",
    "print(f\"Weighted Post-Treatment Speed: {post_weighted_speed:.2f} mph\")\n",
    "print(f\"T-Statistic: {t_stat:.3f}, P-Value: {p_value:.3f}\")\n",
    "\n",
    "# Plotting the results\n",
    "bar_colors = ['red', 'blue']\n",
    "plt.figure(figsize=(6, 4))\n",
    "plt.bar(['Pre-Treatment', 'Post-Treatment'], \n",
    "        [pre_weighted_speed, post_weighted_speed], \n",
    "        yerr=[pre_weighted_std, post_weighted_std], capsize=5, color=bar_colors)\n",
    "plt.ylabel('Weighted Average Spot Speed (mph)')\n",
    "plt.title('Traffic Circle: Pre vs Post-Treatment Speeds')\n",
    "plt.show()\n",
    "\n",
    "max_85th_speed_row_pre = pre_treatment_filtered.loc[pre_treatment_filtered['85th Speed Percentile'].idxmax()]\n",
    "max_85th_speed_row_post = post_treatment_filtered.loc[post_treatment_filtered['85th Speed Percentile'].idxmax()]\n",
    "\n",
    "# Extract the highest value\n",
    "max_85th_speed_value_pre = max_85th_speed_row_pre['85th Speed Percentile']\n",
    "max_85th_speed_value_post = max_85th_speed_row_post['85th Speed Percentile']\n",
    "# Display the result\n",
    "print(f\"Highest value for pre-treatment'85th Speed Percentile': {max_85th_speed_value_pre} mph\",\n",
    "     f\"Highest value for post-treatment'85th Speed Percentile': {max_85th_speed_value_post} mph\")\n",
    "print(\"Row details:\")\n",
    "print(max_85th_speed_row_pre,max_85th_speed_row_post )"
   ]
  },
  {
   "cell_type": "code",
   "execution_count": null,
   "id": "cdf6a696-8bf7-4ccd-ac61-7da774c06810",
   "metadata": {},
   "outputs": [],
   "source": []
  },
  {
   "cell_type": "code",
   "execution_count": null,
   "id": "48428158-3b31-4c02-9658-57ef2dce6d34",
   "metadata": {},
   "outputs": [],
   "source": []
  }
 ],
 "metadata": {
  "kernelspec": {
   "display_name": "Python 3 (ipykernel)",
   "language": "python",
   "name": "python3"
  },
  "language_info": {
   "codemirror_mode": {
    "name": "ipython",
    "version": 3
   },
   "file_extension": ".py",
   "mimetype": "text/x-python",
   "name": "python",
   "nbconvert_exporter": "python",
   "pygments_lexer": "ipython3",
   "version": "3.11.9"
  }
 },
 "nbformat": 4,
 "nbformat_minor": 5
}
