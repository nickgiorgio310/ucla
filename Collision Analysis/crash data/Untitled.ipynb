{
 "cells": [
  {
   "cell_type": "code",
   "execution_count": 27,
   "id": "3008a6a8-70ac-488a-bd27-13bf75c08456",
   "metadata": {},
   "outputs": [],
   "source": [
    "import pandas as pd\n",
    "import geopandas as gpd\n",
    "import folium\n",
    "import matplotlib.pyplot as plt\n"
   ]
  },
  {
   "cell_type": "code",
   "execution_count": 2,
   "id": "6081c3ca-3ac9-4ae3-8199-69d7e4a17145",
   "metadata": {},
   "outputs": [],
   "source": [
    "crashes = pd.read_csv('data/Crashes.csv') "
   ]
  },
  {
   "cell_type": "code",
   "execution_count": 21,
   "id": "c14145f1-639f-44c5-8335-7c04e57f9372",
   "metadata": {},
   "outputs": [
    {
     "data": {
      "text/html": [
       "<div>\n",
       "<style scoped>\n",
       "    .dataframe tbody tr th:only-of-type {\n",
       "        vertical-align: middle;\n",
       "    }\n",
       "\n",
       "    .dataframe tbody tr th {\n",
       "        vertical-align: top;\n",
       "    }\n",
       "\n",
       "    .dataframe thead th {\n",
       "        text-align: right;\n",
       "    }\n",
       "</style>\n",
       "<table border=\"1\" class=\"dataframe\">\n",
       "  <thead>\n",
       "    <tr style=\"text-align: right;\">\n",
       "      <th></th>\n",
       "      <th>CASE_ID</th>\n",
       "      <th>ACCIDENT_YEAR</th>\n",
       "      <th>PROC_DATE</th>\n",
       "      <th>JURIS</th>\n",
       "      <th>COLLISION_DATE</th>\n",
       "      <th>COLLISION_TIME</th>\n",
       "      <th>OFFICER_ID</th>\n",
       "      <th>REPORTING_DISTRICT</th>\n",
       "      <th>DAY_OF_WEEK</th>\n",
       "      <th>CHP_SHIFT</th>\n",
       "      <th>...</th>\n",
       "      <th>COUNT_MC_INJURED</th>\n",
       "      <th>PRIMARY_RAMP</th>\n",
       "      <th>SECONDARY_RAMP</th>\n",
       "      <th>LATITUDE</th>\n",
       "      <th>LONGITUDE</th>\n",
       "      <th>COUNTY</th>\n",
       "      <th>CITY</th>\n",
       "      <th>POINT_X</th>\n",
       "      <th>POINT_Y</th>\n",
       "      <th>PCT_Fatal</th>\n",
       "    </tr>\n",
       "  </thead>\n",
       "  <tbody>\n",
       "    <tr>\n",
       "      <th>0</th>\n",
       "      <td>6350156</td>\n",
       "      <td>2016</td>\n",
       "      <td>2017-02-11</td>\n",
       "      <td>1942</td>\n",
       "      <td>2016-02-14</td>\n",
       "      <td>1455</td>\n",
       "      <td>35903</td>\n",
       "      <td>2175</td>\n",
       "      <td>7</td>\n",
       "      <td>5</td>\n",
       "      <td>...</td>\n",
       "      <td>0</td>\n",
       "      <td>-</td>\n",
       "      <td>-</td>\n",
       "      <td>NaN</td>\n",
       "      <td>NaN</td>\n",
       "      <td>LOS ANGELES</td>\n",
       "      <td>LOS ANGELES</td>\n",
       "      <td>-118.604904</td>\n",
       "      <td>34.177254</td>\n",
       "      <td>0.02815</td>\n",
       "    </tr>\n",
       "    <tr>\n",
       "      <th>1</th>\n",
       "      <td>6787200</td>\n",
       "      <td>2015</td>\n",
       "      <td>2016-09-08</td>\n",
       "      <td>1942</td>\n",
       "      <td>2015-01-01</td>\n",
       "      <td>1125</td>\n",
       "      <td>41089</td>\n",
       "      <td>1454</td>\n",
       "      <td>4</td>\n",
       "      <td>5</td>\n",
       "      <td>...</td>\n",
       "      <td>0</td>\n",
       "      <td>-</td>\n",
       "      <td>-</td>\n",
       "      <td>NaN</td>\n",
       "      <td>NaN</td>\n",
       "      <td>LOS ANGELES</td>\n",
       "      <td>LOS ANGELES</td>\n",
       "      <td>-118.437806</td>\n",
       "      <td>33.983817</td>\n",
       "      <td>0.02815</td>\n",
       "    </tr>\n",
       "    <tr>\n",
       "      <th>2</th>\n",
       "      <td>6787202</td>\n",
       "      <td>2015</td>\n",
       "      <td>2016-09-23</td>\n",
       "      <td>1942</td>\n",
       "      <td>2015-01-06</td>\n",
       "      <td>1745</td>\n",
       "      <td>38380</td>\n",
       "      <td>0852</td>\n",
       "      <td>2</td>\n",
       "      <td>5</td>\n",
       "      <td>...</td>\n",
       "      <td>0</td>\n",
       "      <td>-</td>\n",
       "      <td>-</td>\n",
       "      <td>NaN</td>\n",
       "      <td>NaN</td>\n",
       "      <td>LOS ANGELES</td>\n",
       "      <td>LOS ANGELES</td>\n",
       "      <td>-118.460200</td>\n",
       "      <td>34.041935</td>\n",
       "      <td>0.02815</td>\n",
       "    </tr>\n",
       "    <tr>\n",
       "      <th>3</th>\n",
       "      <td>6787975</td>\n",
       "      <td>2015</td>\n",
       "      <td>2016-09-23</td>\n",
       "      <td>1942</td>\n",
       "      <td>2015-01-08</td>\n",
       "      <td>1635</td>\n",
       "      <td>31255</td>\n",
       "      <td>0852</td>\n",
       "      <td>4</td>\n",
       "      <td>5</td>\n",
       "      <td>...</td>\n",
       "      <td>1</td>\n",
       "      <td>-</td>\n",
       "      <td>-</td>\n",
       "      <td>NaN</td>\n",
       "      <td>NaN</td>\n",
       "      <td>LOS ANGELES</td>\n",
       "      <td>LOS ANGELES</td>\n",
       "      <td>-118.460200</td>\n",
       "      <td>34.041935</td>\n",
       "      <td>0.02815</td>\n",
       "    </tr>\n",
       "    <tr>\n",
       "      <th>4</th>\n",
       "      <td>6788094</td>\n",
       "      <td>2015</td>\n",
       "      <td>2016-10-18</td>\n",
       "      <td>1942</td>\n",
       "      <td>2015-01-04</td>\n",
       "      <td>1430</td>\n",
       "      <td>24517</td>\n",
       "      <td>0822</td>\n",
       "      <td>7</td>\n",
       "      <td>5</td>\n",
       "      <td>...</td>\n",
       "      <td>1</td>\n",
       "      <td>-</td>\n",
       "      <td>-</td>\n",
       "      <td>NaN</td>\n",
       "      <td>NaN</td>\n",
       "      <td>LOS ANGELES</td>\n",
       "      <td>LOS ANGELES</td>\n",
       "      <td>-118.541559</td>\n",
       "      <td>34.038601</td>\n",
       "      <td>0.02815</td>\n",
       "    </tr>\n",
       "  </tbody>\n",
       "</table>\n",
       "<p>5 rows × 81 columns</p>\n",
       "</div>"
      ],
      "text/plain": [
       "   CASE_ID  ACCIDENT_YEAR   PROC_DATE  JURIS COLLISION_DATE  COLLISION_TIME  \\\n",
       "0  6350156           2016  2017-02-11   1942     2016-02-14            1455   \n",
       "1  6787200           2015  2016-09-08   1942     2015-01-01            1125   \n",
       "2  6787202           2015  2016-09-23   1942     2015-01-06            1745   \n",
       "3  6787975           2015  2016-09-23   1942     2015-01-08            1635   \n",
       "4  6788094           2015  2016-10-18   1942     2015-01-04            1430   \n",
       "\n",
       "  OFFICER_ID REPORTING_DISTRICT  DAY_OF_WEEK  CHP_SHIFT  ...  \\\n",
       "0      35903               2175            7          5  ...   \n",
       "1      41089               1454            4          5  ...   \n",
       "2      38380               0852            2          5  ...   \n",
       "3      31255               0852            4          5  ...   \n",
       "4      24517               0822            7          5  ...   \n",
       "\n",
       "   COUNT_MC_INJURED  PRIMARY_RAMP  SECONDARY_RAMP  LATITUDE  LONGITUDE  \\\n",
       "0                 0            -               -        NaN        NaN   \n",
       "1                 0            -               -        NaN        NaN   \n",
       "2                 0            -               -        NaN        NaN   \n",
       "3                 1            -               -        NaN        NaN   \n",
       "4                 1            -               -        NaN        NaN   \n",
       "\n",
       "        COUNTY         CITY     POINT_X    POINT_Y PCT_Fatal  \n",
       "0  LOS ANGELES  LOS ANGELES -118.604904  34.177254   0.02815  \n",
       "1  LOS ANGELES  LOS ANGELES -118.437806  33.983817   0.02815  \n",
       "2  LOS ANGELES  LOS ANGELES -118.460200  34.041935   0.02815  \n",
       "3  LOS ANGELES  LOS ANGELES -118.460200  34.041935   0.02815  \n",
       "4  LOS ANGELES  LOS ANGELES -118.541559  34.038601   0.02815  \n",
       "\n",
       "[5 rows x 81 columns]"
      ]
     },
     "execution_count": 21,
     "metadata": {},
     "output_type": "execute_result"
    }
   ],
   "source": [
    "crashes.head()"
   ]
  },
  {
   "cell_type": "code",
   "execution_count": 6,
   "id": "dab71d67-1713-4c83-8b83-7d9479622d34",
   "metadata": {},
   "outputs": [
    {
     "data": {
      "text/plain": [
       "['CASE_ID',\n",
       " 'ACCIDENT_YEAR',\n",
       " 'PROC_DATE',\n",
       " 'JURIS',\n",
       " 'COLLISION_DATE',\n",
       " 'COLLISION_TIME',\n",
       " 'OFFICER_ID',\n",
       " 'REPORTING_DISTRICT',\n",
       " 'DAY_OF_WEEK',\n",
       " 'CHP_SHIFT',\n",
       " 'POPULATION',\n",
       " 'CNTY_CITY_LOC',\n",
       " 'SPECIAL_COND',\n",
       " 'BEAT_TYPE',\n",
       " 'CHP_BEAT_TYPE',\n",
       " 'CITY_DIVISION_LAPD',\n",
       " 'CHP_BEAT_CLASS',\n",
       " 'BEAT_NUMBER',\n",
       " 'PRIMARY_RD',\n",
       " 'SECONDARY_RD',\n",
       " 'DISTANCE',\n",
       " 'DIRECTION',\n",
       " 'INTERSECTION',\n",
       " 'WEATHER_1',\n",
       " 'WEATHER_2',\n",
       " 'STATE_HWY_IND',\n",
       " 'CALTRANS_COUNTY',\n",
       " 'CALTRANS_DISTRICT',\n",
       " 'STATE_ROUTE',\n",
       " 'ROUTE_SUFFIX',\n",
       " 'POSTMILE_PREFIX',\n",
       " 'POSTMILE',\n",
       " 'LOCATION_TYPE',\n",
       " 'RAMP_INTERSECTION',\n",
       " 'SIDE_OF_HWY',\n",
       " 'TOW_AWAY',\n",
       " 'COLLISION_SEVERITY',\n",
       " 'NUMBER_KILLED',\n",
       " 'NUMBER_INJURED',\n",
       " 'PARTY_COUNT',\n",
       " 'PRIMARY_COLL_FACTOR',\n",
       " 'PCF_CODE_OF_VIOL',\n",
       " 'PCF_VIOL_CATEGORY',\n",
       " 'PCF_VIOLATION',\n",
       " 'PCF_VIOL_SUBSECTION',\n",
       " 'HIT_AND_RUN',\n",
       " 'TYPE_OF_COLLISION',\n",
       " 'MVIW',\n",
       " 'PED_ACTION',\n",
       " 'ROAD_SURFACE',\n",
       " 'ROAD_COND_1',\n",
       " 'ROAD_COND_2',\n",
       " 'LIGHTING',\n",
       " 'CONTROL_DEVICE',\n",
       " 'CHP_ROAD_TYPE',\n",
       " 'PEDESTRIAN_ACCIDENT',\n",
       " 'BICYCLE_ACCIDENT',\n",
       " 'MOTORCYCLE_ACCIDENT',\n",
       " 'TRUCK_ACCIDENT',\n",
       " 'NOT_PRIVATE_PROPERTY',\n",
       " 'ALCOHOL_INVOLVED',\n",
       " 'STWD_VEHTYPE_AT_FAULT',\n",
       " 'CHP_VEHTYPE_AT_FAULT',\n",
       " 'COUNT_SEVERE_INJ',\n",
       " 'COUNT_VISIBLE_INJ',\n",
       " 'COUNT_COMPLAINT_PAIN',\n",
       " 'COUNT_PED_KILLED',\n",
       " 'COUNT_PED_INJURED',\n",
       " 'COUNT_BICYCLIST_KILLED',\n",
       " 'COUNT_BICYCLIST_INJURED',\n",
       " 'COUNT_MC_KILLED',\n",
       " 'COUNT_MC_INJURED',\n",
       " 'PRIMARY_RAMP',\n",
       " 'SECONDARY_RAMP',\n",
       " 'LATITUDE',\n",
       " 'LONGITUDE',\n",
       " 'COUNTY',\n",
       " 'CITY',\n",
       " 'POINT_X',\n",
       " 'POINT_Y']"
      ]
     },
     "execution_count": 6,
     "metadata": {},
     "output_type": "execute_result"
    }
   ],
   "source": [
    "crashes.columns.to_list()"
   ]
  },
  {
   "cell_type": "code",
   "execution_count": 29,
   "id": "3cd466dd-dc5e-41ac-a782-29759bb207b7",
   "metadata": {},
   "outputs": [],
   "source": [
    "severity_counts = crashes['COLLISION_SEVERITY'].value_counts().sort_index()\n"
   ]
  },
  {
   "cell_type": "code",
   "execution_count": 32,
   "id": "3918db19-c8a4-49bb-af02-6a5ac9f490d7",
   "metadata": {},
   "outputs": [],
   "source": [
    "total_crashes = severity_counts.sum()\n",
    "percentages = (severity_counts / total_crashes * 100).round(1)"
   ]
  },
  {
   "cell_type": "code",
   "execution_count": 30,
   "id": "29283e53-6c48-4add-9691-50cf59351ee7",
   "metadata": {},
   "outputs": [
    {
     "data": {
      "text/plain": [
       "<BarContainer object of 4 artists>"
      ]
     },
     "execution_count": 30,
     "metadata": {},
     "output_type": "execute_result"
    },
    {
     "data": {
      "image/png": "[encoded data removed]",
      "text/plain": [
       "<Figure size 800x500 with 1 Axes>"
      ]
     },
     "metadata": {},
     "output_type": "display_data"
    }
   ],
   "source": [
    "plt.figure(figsize=(8, 5))\n",
    "plt.bar(severity_counts.index, severity_counts.values, color=['red', 'orange', 'yellow', 'blue'])\n"
   ]
  },
  {
   "cell_type": "code",
   "execution_count": 34,
   "id": "28522c8a-9305-4440-9484-2942b735f521",
   "metadata": {},
   "outputs": [
    {
     "data": {
      "image/png": "[encoded data removed]",
      "text/plain": [
       "<Figure size 800x500 with 1 Axes>"
      ]
     },
     "metadata": {},
     "output_type": "display_data"
    }
   ],
   "source": [
    "severity_labels = [\n",
    "    \"Fatal\", \n",
    "    \"Severe Injury\", \n",
    "    \"Other Visible Injury\", \n",
    "    \"Complaint of Pain\"\n",
    "]\n",
    "colors = ['red', 'orange', 'green', 'blue']\n",
    "\n",
    "# Plot\n",
    "plt.figure(figsize=(8, 5))\n",
    "bars = plt.bar(severity_labels, severity_counts.values, color=colors)\n",
    "\n",
    "# Add percentage labels on bars\n",
    "for bar, pct in zip(bars, percentages):\n",
    "    plt.text(bar.get_x() + bar.get_width() / 2, bar.get_height(), \n",
    "             f'{pct}%', ha='center', va='bottom', fontsize=12, fontweight='bold')\n",
    "\n",
    "# Formatting\n",
    "plt.xlabel('Crash Severity')\n",
    "plt.ylabel('Number of Crashes')\n",
    "plt.title('Number of Crashes by Crash Severity')\n",
    "plt.grid(axis='y', linestyle='--', alpha=0.7)\n",
    "\n",
    "# Show plot\n",
    "plt.show()"
   ]
  },
  {
   "cell_type": "code",
   "execution_count": 35,
   "id": "1d6f5f57-7944-4383-a40f-0c0b4b8fc95c",
   "metadata": {},
   "outputs": [],
   "source": [
    "collision_type = crashes['TYPE_OF_COLLISION'].value_counts().sort_index()"
   ]
  },
  {
   "cell_type": "code",
   "execution_count": 36,
   "id": "6bd62680-7939-408f-9aa5-cb5186b1d5be",
   "metadata": {},
   "outputs": [],
   "source": [
    "total_collision_type = collision_type.sum()\n",
    "percentages = (collision_type / total_crashes * 100).round(1)"
   ]
  },
  {
   "cell_type": "code",
   "execution_count": 37,
   "id": "1d890d55-4479-4c06-aefa-6a480d4e7f24",
   "metadata": {},
   "outputs": [
    {
     "data": {
      "text/plain": [
       "array([  5,  77,  65,  70, 392,  25,   1,  85,  26])"
      ]
     },
     "execution_count": 37,
     "metadata": {},
     "output_type": "execute_result"
    }
   ],
   "source": [
    "collision_type.unique()"
   ]
  },
  {
   "cell_type": "code",
   "execution_count": null,
   "id": "9fc45f00-33c4-4c01-822b-388d8dd5b4c3",
   "metadata": {},
   "outputs": [],
   "source": []
  }
 ],
 "metadata": {
  "kernelspec": {
   "display_name": "Python 3 (ipykernel)",
   "language": "python",
   "name": "python3"
  },
  "language_info": {
   "codemirror_mode": {
    "name": "ipython",
    "version": 3
   },
   "file_extension": ".py",
   "mimetype": "text/x-python",
   "name": "python",
   "nbconvert_exporter": "python",
   "pygments_lexer": "ipython3",
   "version": "3.11.9"
  }
 },
 "nbformat": 4,
 "nbformat_minor": 5
}
